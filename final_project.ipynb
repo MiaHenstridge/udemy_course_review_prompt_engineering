{
 "cells": [
  {
   "cell_type": "code",
   "execution_count": 1,
   "id": "d1e28a1d",
   "metadata": {},
   "outputs": [],
   "source": [
    "# !pip install numpy\n",
    "# !pip install pandas\n",
    "# !pip install scikit-learn\n",
    "\n",
    "# !pip install tqdm\n",
    "# !pip install rougue-score\n",
    "# !pip install seaborn\n",
    "# !pip install matplotlib\n",
    "# !pip install evaluate\n",
    "# !pip install nltk"
   ]
  },
  {
   "cell_type": "code",
   "execution_count": 2,
   "id": "e593a63f",
   "metadata": {},
   "outputs": [
    {
     "name": "stderr",
     "output_type": "stream",
     "text": [
      "d:\\06_class_notes\\2025_spring\\deep_learning\\.venv\\lib\\site-packages\\tqdm\\auto.py:21: TqdmWarning: IProgress not found. Please update jupyter and ipywidgets. See https://ipywidgets.readthedocs.io/en/stable/user_install.html\n",
      "  from .autonotebook import tqdm as notebook_tqdm\n",
      "[nltk_data] Downloading package wordnet to\n",
      "[nltk_data]     C:\\Users\\Asus\\AppData\\Roaming\\nltk_data...\n",
      "[nltk_data]   Package wordnet is already up-to-date!\n",
      "[nltk_data] Downloading package omw-1.4 to\n",
      "[nltk_data]     C:\\Users\\Asus\\AppData\\Roaming\\nltk_data...\n",
      "[nltk_data]   Package omw-1.4 is already up-to-date!\n",
      "[nltk_data] Downloading package punkt to\n",
      "[nltk_data]     C:\\Users\\Asus\\AppData\\Roaming\\nltk_data...\n",
      "[nltk_data]   Package punkt is already up-to-date!\n"
     ]
    },
    {
     "data": {
      "text/plain": [
       "True"
      ]
     },
     "execution_count": 2,
     "metadata": {},
     "output_type": "execute_result"
    }
   ],
   "source": [
    "import lmstudio as lms\n",
    "import os\n",
    "import json\n",
    "import re\n",
    "\n",
    "import numpy as np\n",
    "import pandas as pd\n",
    "import matplotlib.pyplot as plt\n",
    "import seaborn as sns\n",
    "\n",
    "from sklearn.metrics import accuracy_score, f1_score, recall_score, precision_score, confusion_matrix\n",
    "\n",
    "from tqdm import tqdm\n",
    "import time  # optional, for example timing\n",
    "\n",
    "import evaluate\n",
    "\n",
    "import nltk\n",
    "from nltk.translate.meteor_score import meteor_score\n",
    "from nltk.tokenize import word_tokenize\n",
    "nltk.download('wordnet')\n",
    "nltk.download('omw-1.4')\n",
    "nltk.download('punkt')"
   ]
  },
  {
   "cell_type": "code",
   "execution_count": 3,
   "id": "2362a918",
   "metadata": {},
   "outputs": [],
   "source": [
    "# setup directories\n",
    "EVAL_DIR = './eval'\n",
    "os.makedirs(EVAL_DIR, exist_ok=True)\n",
    "\n",
    "OUTPUT_DIR = './output'\n",
    "os.makedirs(OUTPUT_DIR, exist_ok=True)"
   ]
  },
  {
   "cell_type": "code",
   "execution_count": 4,
   "id": "76bedefa",
   "metadata": {},
   "outputs": [],
   "source": [
    "# retrieve test set manually labeled for each task\n",
    "df = pd.read_csv(os.path.join(EVAL_DIR, \"test_data.csv\"), index_col='Unnamed: 0', encoding='cp1252')"
   ]
  },
  {
   "cell_type": "code",
   "execution_count": 5,
   "id": "21859b55",
   "metadata": {},
   "outputs": [
    {
     "data": {
      "text/html": [
       "<div>\n",
       "<style scoped>\n",
       "    .dataframe tbody tr th:only-of-type {\n",
       "        vertical-align: middle;\n",
       "    }\n",
       "\n",
       "    .dataframe tbody tr th {\n",
       "        vertical-align: top;\n",
       "    }\n",
       "\n",
       "    .dataframe thead th {\n",
       "        text-align: right;\n",
       "    }\n",
       "</style>\n",
       "<table border=\"1\" class=\"dataframe\">\n",
       "  <thead>\n",
       "    <tr style=\"text-align: right;\">\n",
       "      <th></th>\n",
       "      <th>content</th>\n",
       "      <th>sentiment</th>\n",
       "      <th>key_phrase</th>\n",
       "      <th>summary</th>\n",
       "    </tr>\n",
       "  </thead>\n",
       "  <tbody>\n",
       "    <tr>\n",
       "      <th>148</th>\n",
       "      <td>HTML and CSS if very nicely covered but later ...</td>\n",
       "      <td>-1</td>\n",
       "      <td>everything has updated so much that it became ...</td>\n",
       "      <td>This reviewer is satisfied with HTML and CSS t...</td>\n",
       "    </tr>\n",
       "    <tr>\n",
       "      <th>49</th>\n",
       "      <td>Initially, I rated this course 5 stars and EVE...</td>\n",
       "      <td>-1</td>\n",
       "      <td>huge disappointment at the end</td>\n",
       "      <td>The course started off strong but fell off due...</td>\n",
       "    </tr>\n",
       "    <tr>\n",
       "      <th>138</th>\n",
       "      <td>Best course ever for web development. No one c...</td>\n",
       "      <td>1</td>\n",
       "      <td>Best course ever for web development.</td>\n",
       "      <td>The reviewer praises the course for its compre...</td>\n",
       "    </tr>\n",
       "    <tr>\n",
       "      <th>91</th>\n",
       "      <td>The course is good ! BUT I think when teaching...</td>\n",
       "      <td>0</td>\n",
       "      <td>The course is good !</td>\n",
       "      <td>The course is overall good, but the reviewer s...</td>\n",
       "    </tr>\n",
       "    <tr>\n",
       "      <th>119</th>\n",
       "      <td>just a average course, she just ask you to rea...</td>\n",
       "      <td>-1</td>\n",
       "      <td>room for lots of improvement</td>\n",
       "      <td>The reviewer considers the course average, cit...</td>\n",
       "    </tr>\n",
       "  </tbody>\n",
       "</table>\n",
       "</div>"
      ],
      "text/plain": [
       "                                               content  sentiment  \\\n",
       "148  HTML and CSS if very nicely covered but later ...         -1   \n",
       "49   Initially, I rated this course 5 stars and EVE...         -1   \n",
       "138  Best course ever for web development. No one c...          1   \n",
       "91   The course is good ! BUT I think when teaching...          0   \n",
       "119  just a average course, she just ask you to rea...         -1   \n",
       "\n",
       "                                            key_phrase  \\\n",
       "148  everything has updated so much that it became ...   \n",
       "49                      huge disappointment at the end   \n",
       "138              Best course ever for web development.   \n",
       "91                                The course is good !   \n",
       "119                       room for lots of improvement   \n",
       "\n",
       "                                               summary  \n",
       "148  This reviewer is satisfied with HTML and CSS t...  \n",
       "49   The course started off strong but fell off due...  \n",
       "138  The reviewer praises the course for its compre...  \n",
       "91   The course is overall good, but the reviewer s...  \n",
       "119  The reviewer considers the course average, cit...  "
      ]
     },
     "execution_count": 5,
     "metadata": {},
     "output_type": "execute_result"
    }
   ],
   "source": [
    "df.head()"
   ]
  },
  {
   "cell_type": "code",
   "execution_count": 6,
   "id": "fea82583",
   "metadata": {},
   "outputs": [
    {
     "data": {
      "text/plain": [
       "(50, 4)"
      ]
     },
     "execution_count": 6,
     "metadata": {},
     "output_type": "execute_result"
    }
   ],
   "source": [
    "df.shape"
   ]
  },
  {
   "cell_type": "markdown",
   "id": "b86da851",
   "metadata": {},
   "source": [
    "## 1. Prompt Engineering"
   ]
  },
  {
   "cell_type": "code",
   "execution_count": 7,
   "id": "894038d6",
   "metadata": {},
   "outputs": [],
   "source": [
    "def sentiment_classification(reviews, model, prompt_ver=1):\n",
    "    res = []\n",
    "    for review in reviews:\n",
    "        # define response format\n",
    "        response_schema = {\n",
    "            \"type\": \"object\",\n",
    "            \"properties\": {\n",
    "                \"sentiment\": { \"type\": \"integer\" },\n",
    "            },\n",
    "            \"required\": [\"sentiment\"],\n",
    "        }\n",
    "        # construct prompt\n",
    "        if prompt_ver==1:\n",
    "            prompt = f\"\"\" \n",
    "            Classify the sentiment of the following customer review as 1 if it is overall positive, 0 if neutral, or -1 if negative.\n",
    "            Review: {review}\n",
    "            \"\"\"\n",
    "        elif prompt_ver==2:\n",
    "            prompt = f\"\"\" \n",
    "            What is the sentiment of the following customer review?\n",
    "            Use the label 1 for positive, 0 for neutral, and -1 for negative.\n",
    "            Review: {review}\n",
    "            \"\"\"\n",
    "        elif prompt_ver==3:\n",
    "            prompt = f\"\"\"\n",
    "            You are a sentiment analysis assistant. \n",
    "            Read the following customer review and classify its overall sentiment as 1 for positive , 0 for neutral, or -1 for negative, based on the customer's tone and opinion. \n",
    "            Review: {review}\n",
    "            \"\"\"\n",
    "\n",
    "        response = model.respond(prompt, response_format=response_schema)\n",
    "\n",
    "        res.append({\n",
    "            'review': review,\n",
    "            'sentiment': response.parsed['sentiment'],\n",
    "        })\n",
    "\n",
    "    return res"
   ]
  },
  {
   "cell_type": "code",
   "execution_count": 8,
   "id": "6fafa078",
   "metadata": {},
   "outputs": [],
   "source": [
    "def phrase_extraction(reviews, model, prompt_ver=1):\n",
    "    res = []\n",
    "    for review in reviews:\n",
    "        # define response format\n",
    "        response_schema = {\n",
    "            \"type\": \"object\",\n",
    "            \"properties\": {\n",
    "                \"key_phrase\": { \"type\": \"string\" },\n",
    "            },\n",
    "            \"required\": [\"key_phrase\"],\n",
    "        }\n",
    "        # construct prompt\n",
    "        if prompt_ver==1:\n",
    "            prompt = f\"\"\" \n",
    "            Extract the most significant phrase of praise or complaint from the following review. \n",
    "            Review: {review}\n",
    "            \"\"\"\n",
    "        elif prompt_ver==2:\n",
    "            prompt = f\"\"\"\n",
    "            What is the most significant phrase of praise or complaint from the following review?\n",
    "            Extract a key phrase or sentence.\n",
    "            Review: {review}\n",
    "            \"\"\"\n",
    "        elif prompt_ver==3:\n",
    "            prompt = f\"\"\"\n",
    "            You are an assistant analyzing customer feedback on online courses. \n",
    "            Your task is to extract a key phrase of praises or complaints mentioned in the review. \n",
    "            Review: {review}\n",
    "            \"\"\"\n",
    "\n",
    "        response = model.respond(prompt, response_format=response_schema)\n",
    "\n",
    "        res.append({\n",
    "            'review': review,\n",
    "            'key_phrase': response.parsed['key_phrase'],\n",
    "        })\n",
    "\n",
    "    return res"
   ]
  },
  {
   "cell_type": "code",
   "execution_count": 9,
   "id": "793564dc",
   "metadata": {},
   "outputs": [],
   "source": [
    "def review_summarization(reviews, model, prompt_ver=1):\n",
    "    res = []\n",
    "    for review in reviews:\n",
    "        # define response format\n",
    "        response_schema = {\n",
    "            \"type\": \"object\",\n",
    "            \"properties\": {\n",
    "                \"summary\": { \"type\": \"string\" },\n",
    "            },\n",
    "            \"required\": [\"summary\"],\n",
    "        }\n",
    "        # construct prompt\n",
    "        if prompt_ver==1:\n",
    "            prompt = f\"\"\" \n",
    "            Provide a 1-2 sentence summary of the given review.\n",
    "            Review: {review}\n",
    "            \"\"\"\n",
    "        elif prompt_ver==2:\n",
    "            prompt = f\"\"\"\n",
    "            What is the overall experience and opinion of the customer based on the following review? Summarize it in 1-2 sentences.\n",
    "            Review: {review}\n",
    "            \"\"\"\n",
    "        elif prompt_ver==3:\n",
    "            prompt = f\"\"\"\n",
    "            You are a helpful assistant summarizing customer feedback for an online course. \n",
    "            Write a short (1-2 sentence) summary that captures the core experience and opinion of the customer.\n",
    "            Review: {review}\n",
    "            \"\"\"\n",
    "\n",
    "        response = model.respond(prompt, response_format=response_schema)\n",
    "\n",
    "        res.append({\n",
    "            'review': review,\n",
    "            'summary': response.parsed['summary'],\n",
    "        })\n",
    "\n",
    "    return res"
   ]
  },
  {
   "cell_type": "markdown",
   "id": "abd0d75c",
   "metadata": {},
   "source": [
    "## 2. Obtaining prediction / responses"
   ]
  },
  {
   "cell_type": "markdown",
   "id": "0731059d",
   "metadata": {},
   "source": [
    "### 2.1. llama-3.2-3b-instruct"
   ]
  },
  {
   "cell_type": "code",
   "execution_count": 10,
   "id": "c1e5ac52",
   "metadata": {},
   "outputs": [],
   "source": [
    "# load model\n",
    "MODEL_NAME = \"llama-3.2-3b-instruct\"\n",
    "model = lms.llm(MODEL_NAME)"
   ]
  },
  {
   "cell_type": "markdown",
   "id": "3bf43ad3",
   "metadata": {},
   "source": [
    "#### 1.1.1. Task 1: Sentiment classification"
   ]
  },
  {
   "cell_type": "code",
   "execution_count": 11,
   "id": "1f2578e5",
   "metadata": {},
   "outputs": [
    {
     "name": "stderr",
     "output_type": "stream",
     "text": [
      "Processing Prompt Versions:   0%|          | 0/3 [00:00<?, ?it/s]"
     ]
    },
    {
     "name": "stdout",
     "output_type": "stream",
     "text": [
      "Prompt version: 1\n"
     ]
    },
    {
     "name": "stderr",
     "output_type": "stream",
     "text": [
      "Processing Prompt Versions:  33%|███▎      | 1/3 [00:55<01:50, 55.11s/it]"
     ]
    },
    {
     "name": "stdout",
     "output_type": "stream",
     "text": [
      "Version 1 done in 55.10 seconds\n",
      "Prompt version: 2\n"
     ]
    },
    {
     "name": "stderr",
     "output_type": "stream",
     "text": [
      "Processing Prompt Versions:  67%|██████▋   | 2/3 [01:47<00:53, 53.30s/it]"
     ]
    },
    {
     "name": "stdout",
     "output_type": "stream",
     "text": [
      "Version 2 done in 52.00 seconds\n",
      "Prompt version: 3\n"
     ]
    },
    {
     "name": "stderr",
     "output_type": "stream",
     "text": [
      "Processing Prompt Versions: 100%|██████████| 3/3 [02:40<00:00, 53.45s/it]"
     ]
    },
    {
     "name": "stdout",
     "output_type": "stream",
     "text": [
      "Version 3 done in 53.17 seconds\n"
     ]
    },
    {
     "name": "stderr",
     "output_type": "stream",
     "text": [
      "\n"
     ]
    }
   ],
   "source": [
    "for prompt_ver in tqdm(range(1, 4), desc=\"Processing Prompt Versions\"):\n",
    "    start_time = time.time()  # start timing the iteration\n",
    "\n",
    "    tqdm.write(f'Prompt version: {prompt_ver}')\n",
    "    sentiments = sentiment_classification(reviews=df['content'], model=model, prompt_ver=prompt_ver)\n",
    "    \n",
    "    task1_df = pd.DataFrame(sentiments)\n",
    "    task1_df.to_csv(os.path.join(OUTPUT_DIR, f'{MODEL_NAME}_task_1_v{prompt_ver}.csv'), index=False)\n",
    "\n",
    "    end_time = time.time()\n",
    "    tqdm.write(f\"Version {prompt_ver} done in {end_time - start_time:.2f} seconds\")"
   ]
  },
  {
   "cell_type": "markdown",
   "id": "3cbc4d7d",
   "metadata": {},
   "source": [
    "#### 1.1.2. Task 2: Key complaint or praise extraction"
   ]
  },
  {
   "cell_type": "code",
   "execution_count": 12,
   "id": "5f8d7f8b",
   "metadata": {},
   "outputs": [
    {
     "name": "stderr",
     "output_type": "stream",
     "text": [
      "                                                                 \r"
     ]
    },
    {
     "name": "stderr",
     "output_type": "stream",
     "text": [
      "Processing Prompt Versions:   0%|          | 0/3 [00:00<?, ?it/s]"
     ]
    },
    {
     "name": "stdout",
     "output_type": "stream",
     "text": [
      "Prompt version: 1\n"
     ]
    },
    {
     "name": "stderr",
     "output_type": "stream",
     "text": [
      "Processing Prompt Versions:  33%|███▎      | 1/3 [01:15<02:30, 75.34s/it]"
     ]
    },
    {
     "name": "stdout",
     "output_type": "stream",
     "text": [
      "Version 1 done in 75.31 seconds\n",
      "Prompt version: 2\n"
     ]
    },
    {
     "name": "stderr",
     "output_type": "stream",
     "text": [
      "Processing Prompt Versions:  67%|██████▋   | 2/3 [02:32<01:16, 76.11s/it]"
     ]
    },
    {
     "name": "stdout",
     "output_type": "stream",
     "text": [
      "Version 2 done in 76.62 seconds\n",
      "Prompt version: 3\n"
     ]
    },
    {
     "name": "stderr",
     "output_type": "stream",
     "text": [
      "Processing Prompt Versions: 100%|██████████| 3/3 [03:40<00:00, 73.46s/it]"
     ]
    },
    {
     "name": "stdout",
     "output_type": "stream",
     "text": [
      "Version 3 done in 68.35 seconds\n"
     ]
    },
    {
     "name": "stderr",
     "output_type": "stream",
     "text": [
      "\n"
     ]
    }
   ],
   "source": [
    "for prompt_ver in tqdm(range(1, 4), desc=\"Processing Prompt Versions\"):\n",
    "    start_time = time.time()  # start timing the iteration\n",
    "\n",
    "    tqdm.write(f'Prompt version: {prompt_ver}')\n",
    "    phrases = phrase_extraction(reviews=df['content'], model=model, prompt_ver=prompt_ver)\n",
    "    \n",
    "    task2_df = pd.DataFrame(phrases)\n",
    "    task2_df.to_csv(os.path.join(OUTPUT_DIR, f'{MODEL_NAME}_task_2_v{prompt_ver}.csv'), index=False)\n",
    "\n",
    "    end_time = time.time()\n",
    "    tqdm.write(f\"Version {prompt_ver} done in {end_time - start_time:.2f} seconds\")"
   ]
  },
  {
   "cell_type": "markdown",
   "id": "193d61ef",
   "metadata": {},
   "source": [
    "#### 1.1.3. Task 3: Review summarization"
   ]
  },
  {
   "cell_type": "code",
   "execution_count": 13,
   "id": "138e572d",
   "metadata": {},
   "outputs": [
    {
     "name": "stderr",
     "output_type": "stream",
     "text": [
      "Processing Prompt Versions:   0%|          | 0/3 [00:00<?, ?it/s]"
     ]
    },
    {
     "name": "stdout",
     "output_type": "stream",
     "text": [
      "Prompt version: 1\n"
     ]
    },
    {
     "name": "stderr",
     "output_type": "stream",
     "text": [
      "Processing Prompt Versions:  33%|███▎      | 1/3 [02:53<05:47, 173.70s/it]"
     ]
    },
    {
     "name": "stdout",
     "output_type": "stream",
     "text": [
      "Version 1 done in 173.65 seconds\n",
      "Prompt version: 2\n"
     ]
    },
    {
     "name": "stderr",
     "output_type": "stream",
     "text": [
      "Processing Prompt Versions:  67%|██████▋   | 2/3 [05:51<02:56, 176.03s/it]"
     ]
    },
    {
     "name": "stdout",
     "output_type": "stream",
     "text": [
      "Version 2 done in 177.63 seconds\n",
      "Prompt version: 3\n"
     ]
    },
    {
     "name": "stderr",
     "output_type": "stream",
     "text": [
      "Processing Prompt Versions: 100%|██████████| 3/3 [09:06<00:00, 182.01s/it]"
     ]
    },
    {
     "name": "stdout",
     "output_type": "stream",
     "text": [
      "Version 3 done in 194.66 seconds\n"
     ]
    },
    {
     "name": "stderr",
     "output_type": "stream",
     "text": [
      "\n"
     ]
    }
   ],
   "source": [
    "for prompt_ver in tqdm(range(1, 4), desc=\"Processing Prompt Versions\"):\n",
    "    start_time = time.time()  # start timing the iteration\n",
    "\n",
    "    tqdm.write(f'Prompt version: {prompt_ver}')\n",
    "    summaries = review_summarization(reviews=df['content'], model=model, prompt_ver=prompt_ver)\n",
    "    \n",
    "    task3_df = pd.DataFrame(summaries)\n",
    "    task3_df.to_csv(os.path.join(OUTPUT_DIR, f'{MODEL_NAME}_task_3_v{prompt_ver}.csv'), index=False)\n",
    "\n",
    "    end_time = time.time()\n",
    "    tqdm.write(f\"Version {prompt_ver} done in {end_time - start_time:.2f} seconds\")"
   ]
  },
  {
   "cell_type": "code",
   "execution_count": 14,
   "id": "1a6a53ff",
   "metadata": {},
   "outputs": [],
   "source": [
    "# unload the model\n",
    "model.unload()"
   ]
  },
  {
   "cell_type": "markdown",
   "id": "24316559",
   "metadata": {},
   "source": [
    "### 2.2. gemma-3-4b-it"
   ]
  },
  {
   "cell_type": "code",
   "execution_count": 15,
   "id": "cb5b73c6",
   "metadata": {},
   "outputs": [],
   "source": [
    "# load model\n",
    "MODEL_NAME = \"gemma-3-4b-it\"\n",
    "model = lms.llm(MODEL_NAME)"
   ]
  },
  {
   "cell_type": "markdown",
   "id": "2fb067f9",
   "metadata": {},
   "source": [
    "#### 2.2.1. Task 1: Sentiment classification"
   ]
  },
  {
   "cell_type": "code",
   "execution_count": 16,
   "id": "c2106f5c",
   "metadata": {},
   "outputs": [
    {
     "name": "stderr",
     "output_type": "stream",
     "text": [
      "Processing Prompt Versions:   0%|          | 0/3 [00:00<?, ?it/s]"
     ]
    },
    {
     "name": "stdout",
     "output_type": "stream",
     "text": [
      "Prompt version: 1\n"
     ]
    },
    {
     "name": "stderr",
     "output_type": "stream",
     "text": [
      "Processing Prompt Versions:  33%|███▎      | 1/3 [00:38<01:17, 38.56s/it]"
     ]
    },
    {
     "name": "stdout",
     "output_type": "stream",
     "text": [
      "Version 1 done in 38.55 seconds\n",
      "Prompt version: 2\n"
     ]
    },
    {
     "name": "stderr",
     "output_type": "stream",
     "text": [
      "Processing Prompt Versions:  67%|██████▋   | 2/3 [01:16<00:38, 38.33s/it]"
     ]
    },
    {
     "name": "stdout",
     "output_type": "stream",
     "text": [
      "Version 2 done in 38.17 seconds\n",
      "Prompt version: 3\n"
     ]
    },
    {
     "name": "stderr",
     "output_type": "stream",
     "text": [
      "Processing Prompt Versions: 100%|██████████| 3/3 [01:52<00:00, 37.65s/it]"
     ]
    },
    {
     "name": "stdout",
     "output_type": "stream",
     "text": [
      "Version 3 done in 36.21 seconds\n"
     ]
    },
    {
     "name": "stderr",
     "output_type": "stream",
     "text": [
      "\n"
     ]
    }
   ],
   "source": [
    "for prompt_ver in tqdm(range(1, 4), desc=\"Processing Prompt Versions\"):\n",
    "    start_time = time.time()  # start timing the iteration\n",
    "\n",
    "    tqdm.write(f'Prompt version: {prompt_ver}')\n",
    "    sentiments = sentiment_classification(reviews=df['content'], model=model, prompt_ver=prompt_ver)\n",
    "    \n",
    "    task1_df = pd.DataFrame(sentiments)\n",
    "    task1_df.to_csv(os.path.join(OUTPUT_DIR, f'{MODEL_NAME}_task_1_v{prompt_ver}.csv'), index=False)\n",
    "\n",
    "    end_time = time.time()\n",
    "    tqdm.write(f\"Version {prompt_ver} done in {end_time - start_time:.2f} seconds\")"
   ]
  },
  {
   "cell_type": "markdown",
   "id": "d4e4c320",
   "metadata": {},
   "source": [
    "#### 2.2.2. Task 2: Key complaint or praise extraction"
   ]
  },
  {
   "cell_type": "code",
   "execution_count": 17,
   "id": "1adbd724",
   "metadata": {},
   "outputs": [
    {
     "name": "stderr",
     "output_type": "stream",
     "text": [
      "Processing Prompt Versions:   0%|          | 0/3 [00:00<?, ?it/s]"
     ]
    },
    {
     "name": "stdout",
     "output_type": "stream",
     "text": [
      "Prompt version: 1\n"
     ]
    },
    {
     "name": "stderr",
     "output_type": "stream",
     "text": [
      "Processing Prompt Versions:  33%|███▎      | 1/3 [00:45<01:31, 45.64s/it]"
     ]
    },
    {
     "name": "stdout",
     "output_type": "stream",
     "text": [
      "Version 1 done in 45.64 seconds\n",
      "Prompt version: 2\n"
     ]
    },
    {
     "name": "stderr",
     "output_type": "stream",
     "text": [
      "Processing Prompt Versions:  67%|██████▋   | 2/3 [01:49<00:56, 56.29s/it]"
     ]
    },
    {
     "name": "stdout",
     "output_type": "stream",
     "text": [
      "Version 2 done in 63.74 seconds\n",
      "Prompt version: 3\n"
     ]
    },
    {
     "name": "stderr",
     "output_type": "stream",
     "text": [
      "Processing Prompt Versions: 100%|██████████| 3/3 [02:41<00:00, 53.76s/it]"
     ]
    },
    {
     "name": "stdout",
     "output_type": "stream",
     "text": [
      "Version 3 done in 51.89 seconds\n"
     ]
    },
    {
     "name": "stderr",
     "output_type": "stream",
     "text": [
      "\n"
     ]
    }
   ],
   "source": [
    "for prompt_ver in tqdm(range(1, 4), desc=\"Processing Prompt Versions\"):\n",
    "    start_time = time.time()  # start timing the iteration\n",
    "\n",
    "    tqdm.write(f'Prompt version: {prompt_ver}')\n",
    "    phrases = phrase_extraction(reviews=df['content'], model=model, prompt_ver=prompt_ver)\n",
    "    \n",
    "    task2_df = pd.DataFrame(phrases)\n",
    "    task2_df.to_csv(os.path.join(OUTPUT_DIR, f'{MODEL_NAME}_task_2_v{prompt_ver}.csv'), index=False)\n",
    "\n",
    "    end_time = time.time()\n",
    "    tqdm.write(f\"Version {prompt_ver} done in {end_time - start_time:.2f} seconds\")"
   ]
  },
  {
   "cell_type": "markdown",
   "id": "5896e576",
   "metadata": {},
   "source": [
    "#### 2.2.3. Task 3: Review summarization"
   ]
  },
  {
   "cell_type": "code",
   "execution_count": 18,
   "id": "abc1ccfd",
   "metadata": {},
   "outputs": [
    {
     "name": "stderr",
     "output_type": "stream",
     "text": [
      "Processing Prompt Versions:   0%|          | 0/3 [00:00<?, ?it/s]"
     ]
    },
    {
     "name": "stdout",
     "output_type": "stream",
     "text": [
      "Prompt version: 1\n"
     ]
    },
    {
     "name": "stderr",
     "output_type": "stream",
     "text": [
      "Processing Prompt Versions:  33%|███▎      | 1/3 [01:57<03:54, 117.41s/it]"
     ]
    },
    {
     "name": "stdout",
     "output_type": "stream",
     "text": [
      "Version 1 done in 117.41 seconds\n",
      "Prompt version: 2\n"
     ]
    },
    {
     "name": "stderr",
     "output_type": "stream",
     "text": [
      "Processing Prompt Versions:  67%|██████▋   | 2/3 [04:07<02:04, 124.67s/it]"
     ]
    },
    {
     "name": "stdout",
     "output_type": "stream",
     "text": [
      "Version 2 done in 129.73 seconds\n",
      "Prompt version: 3\n"
     ]
    },
    {
     "name": "stderr",
     "output_type": "stream",
     "text": [
      "Processing Prompt Versions: 100%|██████████| 3/3 [05:57<00:00, 119.31s/it]"
     ]
    },
    {
     "name": "stdout",
     "output_type": "stream",
     "text": [
      "Version 3 done in 110.78 seconds\n"
     ]
    },
    {
     "name": "stderr",
     "output_type": "stream",
     "text": [
      "\n"
     ]
    }
   ],
   "source": [
    "for prompt_ver in tqdm(range(1, 4), desc=\"Processing Prompt Versions\"):\n",
    "    start_time = time.time()  # start timing the iteration\n",
    "\n",
    "    tqdm.write(f'Prompt version: {prompt_ver}')\n",
    "    summaries = review_summarization(reviews=df['content'], model=model, prompt_ver=prompt_ver)\n",
    "    \n",
    "    task3_df = pd.DataFrame(summaries)\n",
    "    task3_df.to_csv(os.path.join(OUTPUT_DIR, f'{MODEL_NAME}_task_3_v{prompt_ver}.csv'), index=False)\n",
    "\n",
    "    end_time = time.time()\n",
    "    tqdm.write(f\"Version {prompt_ver} done in {end_time - start_time:.2f} seconds\")"
   ]
  },
  {
   "cell_type": "code",
   "execution_count": 19,
   "id": "70735e38",
   "metadata": {},
   "outputs": [],
   "source": [
    "# unload model\n",
    "model.unload()"
   ]
  },
  {
   "cell_type": "markdown",
   "id": "1695d9ed",
   "metadata": {},
   "source": [
    "### 2.3. falcon3-3b-instruct"
   ]
  },
  {
   "cell_type": "code",
   "execution_count": 20,
   "id": "9f6d3555",
   "metadata": {},
   "outputs": [],
   "source": [
    "# load model\n",
    "MODEL_NAME = \"falcon3-3b-instruct\"\n",
    "model = lms.llm(MODEL_NAME)"
   ]
  },
  {
   "cell_type": "markdown",
   "id": "a3201782",
   "metadata": {},
   "source": [
    "#### 2.2.1. Task 1: Sentiment classification"
   ]
  },
  {
   "cell_type": "code",
   "execution_count": 21,
   "id": "38222c88",
   "metadata": {},
   "outputs": [
    {
     "name": "stderr",
     "output_type": "stream",
     "text": [
      "Processing Prompt Versions:   0%|          | 0/3 [00:00<?, ?it/s]"
     ]
    },
    {
     "name": "stdout",
     "output_type": "stream",
     "text": [
      "Prompt version: 1\n"
     ]
    },
    {
     "name": "stderr",
     "output_type": "stream",
     "text": [
      "Processing Prompt Versions:  33%|███▎      | 1/3 [00:14<00:29, 14.90s/it]"
     ]
    },
    {
     "name": "stdout",
     "output_type": "stream",
     "text": [
      "Version 1 done in 14.90 seconds\n",
      "Prompt version: 2\n"
     ]
    },
    {
     "name": "stderr",
     "output_type": "stream",
     "text": [
      "Processing Prompt Versions:  67%|██████▋   | 2/3 [00:29<00:14, 14.72s/it]"
     ]
    },
    {
     "name": "stdout",
     "output_type": "stream",
     "text": [
      "Version 2 done in 14.59 seconds\n",
      "Prompt version: 3\n"
     ]
    },
    {
     "name": "stderr",
     "output_type": "stream",
     "text": [
      "Processing Prompt Versions: 100%|██████████| 3/3 [00:45<00:00, 15.03s/it]"
     ]
    },
    {
     "name": "stdout",
     "output_type": "stream",
     "text": [
      "Version 3 done in 15.58 seconds\n"
     ]
    },
    {
     "name": "stderr",
     "output_type": "stream",
     "text": [
      "\n"
     ]
    }
   ],
   "source": [
    "for prompt_ver in tqdm(range(1, 4), desc=\"Processing Prompt Versions\"):\n",
    "    start_time = time.time()  # start timing the iteration\n",
    "\n",
    "    tqdm.write(f'Prompt version: {prompt_ver}')\n",
    "    sentiments = sentiment_classification(reviews=df['content'], model=model, prompt_ver=prompt_ver)\n",
    "    \n",
    "    task1_df = pd.DataFrame(sentiments)\n",
    "    task1_df.to_csv(os.path.join(OUTPUT_DIR, f'{MODEL_NAME}_task_1_v{prompt_ver}.csv'), index=False)\n",
    "\n",
    "    end_time = time.time()\n",
    "    tqdm.write(f\"Version {prompt_ver} done in {end_time - start_time:.2f} seconds\")"
   ]
  },
  {
   "cell_type": "markdown",
   "id": "d98223a6",
   "metadata": {},
   "source": [
    "#### 2.2.2. Task 2: Key complaint or praise extraction"
   ]
  },
  {
   "cell_type": "code",
   "execution_count": 22,
   "id": "be170d38",
   "metadata": {},
   "outputs": [
    {
     "name": "stderr",
     "output_type": "stream",
     "text": [
      "Processing Prompt Versions:   0%|          | 0/3 [00:00<?, ?it/s]"
     ]
    },
    {
     "name": "stdout",
     "output_type": "stream",
     "text": [
      "Prompt version: 1\n"
     ]
    },
    {
     "name": "stderr",
     "output_type": "stream",
     "text": [
      "Processing Prompt Versions:  33%|███▎      | 1/3 [00:24<00:49, 24.71s/it]"
     ]
    },
    {
     "name": "stdout",
     "output_type": "stream",
     "text": [
      "Version 1 done in 24.71 seconds\n",
      "Prompt version: 2\n"
     ]
    },
    {
     "name": "stderr",
     "output_type": "stream",
     "text": [
      "Processing Prompt Versions:  67%|██████▋   | 2/3 [00:50<00:25, 25.07s/it]"
     ]
    },
    {
     "name": "stdout",
     "output_type": "stream",
     "text": [
      "Version 2 done in 25.32 seconds\n",
      "Prompt version: 3\n"
     ]
    },
    {
     "name": "stderr",
     "output_type": "stream",
     "text": [
      "Processing Prompt Versions: 100%|██████████| 3/3 [01:11<00:00, 23.78s/it]"
     ]
    },
    {
     "name": "stdout",
     "output_type": "stream",
     "text": [
      "Version 3 done in 21.29 seconds\n"
     ]
    },
    {
     "name": "stderr",
     "output_type": "stream",
     "text": [
      "\n"
     ]
    }
   ],
   "source": [
    "for prompt_ver in tqdm(range(1, 4), desc=\"Processing Prompt Versions\"):\n",
    "    start_time = time.time()  # start timing the iteration\n",
    "\n",
    "    tqdm.write(f'Prompt version: {prompt_ver}')\n",
    "    phrases = phrase_extraction(reviews=df['content'], model=model, prompt_ver=prompt_ver)\n",
    "    \n",
    "    task2_df = pd.DataFrame(phrases)\n",
    "    task2_df.to_csv(os.path.join(OUTPUT_DIR, f'{MODEL_NAME}_task_2_v{prompt_ver}.csv'), index=False)\n",
    "\n",
    "    end_time = time.time()\n",
    "    tqdm.write(f\"Version {prompt_ver} done in {end_time - start_time:.2f} seconds\")"
   ]
  },
  {
   "cell_type": "markdown",
   "id": "b343aa8d",
   "metadata": {},
   "source": [
    "#### 2.2.3. Task 3: Review summarization"
   ]
  },
  {
   "cell_type": "code",
   "execution_count": 23,
   "id": "ae689f75",
   "metadata": {},
   "outputs": [
    {
     "name": "stderr",
     "output_type": "stream",
     "text": [
      "Processing Prompt Versions:   0%|          | 0/3 [00:00<?, ?it/s]"
     ]
    },
    {
     "name": "stdout",
     "output_type": "stream",
     "text": [
      "Prompt version: 1\n"
     ]
    },
    {
     "name": "stderr",
     "output_type": "stream",
     "text": [
      "Processing Prompt Versions:  33%|███▎      | 1/3 [00:41<01:22, 41.12s/it]"
     ]
    },
    {
     "name": "stdout",
     "output_type": "stream",
     "text": [
      "Version 1 done in 41.12 seconds\n",
      "Prompt version: 2\n"
     ]
    },
    {
     "name": "stderr",
     "output_type": "stream",
     "text": [
      "Processing Prompt Versions:  67%|██████▋   | 2/3 [01:19<00:39, 39.70s/it]"
     ]
    },
    {
     "name": "stdout",
     "output_type": "stream",
     "text": [
      "Version 2 done in 38.71 seconds\n",
      "Prompt version: 3\n"
     ]
    },
    {
     "name": "stderr",
     "output_type": "stream",
     "text": [
      "Processing Prompt Versions: 100%|██████████| 3/3 [02:02<00:00, 40.81s/it]"
     ]
    },
    {
     "name": "stdout",
     "output_type": "stream",
     "text": [
      "Version 3 done in 42.61 seconds\n"
     ]
    },
    {
     "name": "stderr",
     "output_type": "stream",
     "text": [
      "\n"
     ]
    }
   ],
   "source": [
    "for prompt_ver in tqdm(range(1, 4), desc=\"Processing Prompt Versions\"):\n",
    "    start_time = time.time()  # start timing the iteration\n",
    "\n",
    "    tqdm.write(f'Prompt version: {prompt_ver}')\n",
    "    summaries = review_summarization(reviews=df['content'], model=model, prompt_ver=prompt_ver)\n",
    "    \n",
    "    task3_df = pd.DataFrame(summaries)\n",
    "    task3_df.to_csv(os.path.join(OUTPUT_DIR, f'{MODEL_NAME}_task_3_v{prompt_ver}.csv'), index=False)\n",
    "\n",
    "    end_time = time.time()\n",
    "    tqdm.write(f\"Version {prompt_ver} done in {end_time - start_time:.2f} seconds\")"
   ]
  },
  {
   "cell_type": "code",
   "execution_count": 24,
   "id": "dddf61d5",
   "metadata": {},
   "outputs": [],
   "source": [
    "# unload model\n",
    "model.unload()"
   ]
  },
  {
   "cell_type": "markdown",
   "id": "73305529",
   "metadata": {},
   "source": [
    "## 3. Evaluation"
   ]
  },
  {
   "cell_type": "code",
   "execution_count": 25,
   "id": "7667f92a",
   "metadata": {},
   "outputs": [],
   "source": [
    "llama_model = \"llama-3.2-3b-instruct\"\n",
    "gemma_model = \"gemma-3-4b-it\"\n",
    "falcon_model = \"falcon3-3b-instruct\""
   ]
  },
  {
   "cell_type": "markdown",
   "id": "35f16f36",
   "metadata": {},
   "source": [
    "### 3.1. Task 1: Sentiment classification"
   ]
  },
  {
   "cell_type": "markdown",
   "id": "3efdd551",
   "metadata": {},
   "source": [
    "#### F1 score"
   ]
  },
  {
   "cell_type": "code",
   "execution_count": 26,
   "id": "99020502",
   "metadata": {},
   "outputs": [],
   "source": [
    "def get_f1_score(prompt_ver):\n",
    "    # retrieve model's responses\n",
    "    llama_ = pd.read_csv(os.path.join(OUTPUT_DIR, f\"{llama_model}_task_1_v{prompt_ver}.csv\"))\n",
    "    gemma_ = pd.read_csv(os.path.join(OUTPUT_DIR, f\"{gemma_model}_task_1_v{prompt_ver}.csv\"))\n",
    "    falcon_ = pd.read_csv(os.path.join(OUTPUT_DIR, f\"{falcon_model}_task_1_v{prompt_ver}.csv\"))\n",
    "    \n",
    "    # calculate f1 score & accuracy score\n",
    "    llama_f1 = f1_score(df['sentiment'], llama_['sentiment'], average='micro')\n",
    "    gemma_f1 = f1_score(df['sentiment'], gemma_['sentiment'], average='micro')\n",
    "    falcon_f1 = f1_score(df['sentiment'], falcon_['sentiment'], average='micro')\n",
    "\n",
    "    # print result\n",
    "    print(f'Prompt version {prompt_ver}:')\n",
    "    print(f'{llama_model}: {llama_f1:.2f}')\n",
    "    print(f'{gemma_model}: {gemma_f1:.2f}')\n",
    "    print(f'{falcon_model}: {falcon_f1:.2f}')\n",
    "    print()"
   ]
  },
  {
   "cell_type": "code",
   "execution_count": 27,
   "id": "e355b963",
   "metadata": {},
   "outputs": [
    {
     "name": "stdout",
     "output_type": "stream",
     "text": [
      "Prompt version 1:\n",
      "llama-3.2-3b-instruct: 0.86\n",
      "gemma-3-4b-it: 0.84\n",
      "falcon3-3b-instruct: 0.82\n",
      "\n",
      "Prompt version 2:\n",
      "llama-3.2-3b-instruct: 0.78\n",
      "gemma-3-4b-it: 0.88\n",
      "falcon3-3b-instruct: 0.84\n",
      "\n",
      "Prompt version 3:\n",
      "llama-3.2-3b-instruct: 0.82\n",
      "gemma-3-4b-it: 0.84\n",
      "falcon3-3b-instruct: 0.88\n",
      "\n"
     ]
    }
   ],
   "source": [
    "for i in range(1, 4):\n",
    "    get_f1_score(i)"
   ]
  },
  {
   "cell_type": "markdown",
   "id": "9ff13b20",
   "metadata": {},
   "source": [
    "#### Confusion matrix"
   ]
  },
  {
   "cell_type": "code",
   "execution_count": 28,
   "id": "3d70e869",
   "metadata": {},
   "outputs": [],
   "source": [
    "def get_confusion_matrix(prompt_ver):\n",
    "    # retrieve model's responses\n",
    "    llama_ = pd.read_csv(os.path.join(OUTPUT_DIR, f\"{llama_model}_task_1_v{prompt_ver}.csv\"))\n",
    "    gemma_ = pd.read_csv(os.path.join(OUTPUT_DIR, f\"{gemma_model}_task_1_v{prompt_ver}.csv\"))\n",
    "    falcon_ = pd.read_csv(os.path.join(OUTPUT_DIR, f\"{falcon_model}_task_1_v{prompt_ver}.csv\"))\n",
    "\n",
    "    # calculate confusion matrix\n",
    "    llama_cm = confusion_matrix(df['sentiment'], llama_['sentiment'], labels=[-1, 0, 1])\n",
    "    gemma_cm = confusion_matrix(df['sentiment'], gemma_['sentiment'], labels=[-1, 0, 1])\n",
    "    falcon_cm = confusion_matrix(df['sentiment'], falcon_['sentiment'], labels=[-1, 0, 1])\n",
    "\n",
    "    # Plot result\n",
    "    # Plot side by side\n",
    "    fig, axes = plt.subplots(1, 3, figsize=(17, 5))\n",
    "\n",
    "    sns.heatmap(llama_cm, annot=True, fmt='d', cmap='Blues', ax=axes[0], xticklabels=[-1,0,1], yticklabels=[-1,0,1],)\n",
    "    axes[0].set_title(f'Llama - prompt version {prompt_ver}')\n",
    "    axes[0].set_xlabel('Predicted')\n",
    "    axes[0].set_ylabel('True')\n",
    "\n",
    "    sns.heatmap(gemma_cm, annot=True, fmt='d', cmap='Blues', ax=axes[1], xticklabels=[-1,0,1], yticklabels=[-1,0,1],)\n",
    "    axes[1].set_title(f'Gemma - prompt version {prompt_ver}')\n",
    "    axes[1].set_xlabel('Predicted')\n",
    "    axes[1].set_ylabel('True')\n",
    "\n",
    "    sns.heatmap(falcon_cm, annot=True, fmt='d', cmap='Blues', ax=axes[2], xticklabels=[-1,0,1], yticklabels=[-1,0,1],)\n",
    "    axes[2].set_title(f'Falcon - prompt version {prompt_ver}')\n",
    "    axes[2].set_xlabel('Predicted')\n",
    "    axes[2].set_ylabel('True')\n",
    "\n",
    "    plt.tight_layout()\n",
    "    plt.show()"
   ]
  },
  {
   "cell_type": "code",
   "execution_count": 29,
   "id": "33dd4952",
   "metadata": {},
   "outputs": [
    {
     "data": {
      "image/png": "[encoded data removed]",
      "text/plain": [
       "<Figure size 1700x500 with 6 Axes>"
      ]
     },
     "metadata": {},
     "output_type": "display_data"
    },
    {
     "data": {
      "image/png": "[encoded data removed]",
      "text/plain": [
       "<Figure size 1700x500 with 6 Axes>"
      ]
     },
     "metadata": {},
     "output_type": "display_data"
    },
    {
     "data": {
      "image/png": "[encoded data removed]",
      "text/plain": [
       "<Figure size 1700x500 with 6 Axes>"
      ]
     },
     "metadata": {},
     "output_type": "display_data"
    }
   ],
   "source": [
    "for i in range(1, 4):\n",
    "    get_confusion_matrix(i)"
   ]
  },
  {
   "cell_type": "markdown",
   "id": "7243771d",
   "metadata": {},
   "source": [
    "### 3.2. Task 2: Phrase extraction"
   ]
  },
  {
   "cell_type": "markdown",
   "id": "4731af57",
   "metadata": {},
   "source": [
    "#### Token-level Precision / Recall / F1"
   ]
  },
  {
   "cell_type": "code",
   "execution_count": 30,
   "id": "45af201e",
   "metadata": {},
   "outputs": [],
   "source": [
    "# from sklearn.metrics import precision_score, recall_score, f1_score\n",
    "\n",
    "def token_level_scores(pred, gold):\n",
    "    pred_tokens = pred.split()\n",
    "    gold_tokens = gold.split()\n",
    "    pred_set = set(pred_tokens)\n",
    "    gold_set = set(gold_tokens)\n",
    "    \n",
    "    true_positives = len(pred_set & gold_set)\n",
    "    precision = true_positives / len(pred_set) if pred_set else 0\n",
    "    recall = true_positives / len(gold_set) if gold_set else 0\n",
    "    f1 = 2 * precision * recall / (precision + recall) if (precision + recall) else 0\n",
    "    \n",
    "    return precision, recall, f1\n",
    "\n",
    "\n",
    "def get_token_level_scores(prompt_ver):\n",
    "    # retrieve model's responses\n",
    "    llama_ = pd.read_csv(os.path.join(OUTPUT_DIR, f\"{llama_model}_task_2_v{prompt_ver}.csv\"))\n",
    "    gemma_ = pd.read_csv(os.path.join(OUTPUT_DIR, f\"{gemma_model}_task_2_v{prompt_ver}.csv\"))\n",
    "    falcon_ = pd.read_csv(os.path.join(OUTPUT_DIR, f\"{falcon_model}_task_2_v{prompt_ver}.csv\"))\n",
    "\n",
    "    # calculate average token level precision, recall, f1\n",
    "    llama_precision = []\n",
    "    llama_recall = []\n",
    "    llama_f1 = []\n",
    "\n",
    "    gemma_precision = []\n",
    "    gemma_recall = []\n",
    "    gemma_f1 = []\n",
    "\n",
    "    falcon_precision = []\n",
    "    falcon_recall = []\n",
    "    falcon_f1 = []\n",
    "\n",
    "\n",
    "    for gold_, llama_pred_, gemma_pred_, falcon_pred_ in zip(df['key_phrase'], llama_['key_phrase'], gemma_['key_phrase'], falcon_['key_phrase']):\n",
    "        llama_scores = token_level_scores(llama_pred_, gold_)\n",
    "        gemma_scores = token_level_scores(gemma_pred_, gold_)\n",
    "        falcon_scores = token_level_scores(falcon_pred_, gold_)\n",
    "\n",
    "        llama_precision.append(llama_scores[0])\n",
    "        llama_recall.append(llama_scores[1])\n",
    "        llama_f1.append(llama_scores[2])\n",
    "\n",
    "        gemma_precision.append(gemma_scores[0])\n",
    "        gemma_recall.append(gemma_scores[1])\n",
    "        gemma_f1.append(gemma_scores[2])\n",
    "\n",
    "        falcon_precision.append(falcon_scores[0])\n",
    "        falcon_recall.append(falcon_scores[1])\n",
    "        falcon_f1.append(falcon_scores[2])\n",
    "\n",
    "    # print result\n",
    "    print(f'Prompt version {prompt_ver}:')\n",
    "    print(f'{llama_model}: Precision: {np.mean(llama_precision):.4f}, Recall: {np.mean(llama_recall):.4f}, F1: {np.mean(llama_f1):.4f}')\n",
    "    print(f'{gemma_model}: Precision: {np.mean(gemma_precision):.4f}, Recall: {np.mean(gemma_recall):.4f}, F1: {np.mean(gemma_f1):.4f}')\n",
    "    print(f'{falcon_model}: Precision: {np.mean(falcon_precision):.4f}, Recall: {np.mean(falcon_recall):.4f}, F1: {np.mean(falcon_f1):.4f}')\n",
    "    print()"
   ]
  },
  {
   "cell_type": "code",
   "execution_count": 31,
   "id": "2172bf11",
   "metadata": {},
   "outputs": [
    {
     "name": "stdout",
     "output_type": "stream",
     "text": [
      "Prompt version 1:\n",
      "llama-3.2-3b-instruct: Precision: 0.3714, Recall: 0.4413, F1: 0.3728\n",
      "gemma-3-4b-it: Precision: 0.5203, Recall: 0.4034, F1: 0.4115\n",
      "falcon3-3b-instruct: Precision: 0.3892, Recall: 0.4306, F1: 0.3827\n",
      "\n",
      "Prompt version 2:\n",
      "llama-3.2-3b-instruct: Precision: 0.4083, Recall: 0.4475, F1: 0.3957\n",
      "gemma-3-4b-it: Precision: 0.3854, Recall: 0.3803, F1: 0.3311\n",
      "falcon3-3b-instruct: Precision: 0.3242, Recall: 0.4939, F1: 0.3490\n",
      "\n",
      "Prompt version 3:\n",
      "llama-3.2-3b-instruct: Precision: 0.2561, Recall: 0.2292, F1: 0.2268\n",
      "gemma-3-4b-it: Precision: 0.3185, Recall: 0.3019, F1: 0.2842\n",
      "falcon3-3b-instruct: Precision: 0.4373, Recall: 0.4357, F1: 0.4012\n",
      "\n"
     ]
    }
   ],
   "source": [
    "for i in range(1, 4):\n",
    "    get_token_level_scores(i)"
   ]
  },
  {
   "cell_type": "markdown",
   "id": "f17c3aff",
   "metadata": {},
   "source": [
    "### 3.3. Task 3: Summarization"
   ]
  },
  {
   "cell_type": "markdown",
   "id": "e3d098da",
   "metadata": {},
   "source": [
    "#### ROUGE-L and ROUGE-1 "
   ]
  },
  {
   "cell_type": "code",
   "execution_count": 32,
   "id": "deb310c2",
   "metadata": {},
   "outputs": [],
   "source": [
    "scorer = evaluate.load('rouge')"
   ]
  },
  {
   "cell_type": "code",
   "execution_count": 33,
   "id": "9c1e9f18",
   "metadata": {},
   "outputs": [],
   "source": [
    "def get_rouge_scores(prompt_ver):\n",
    "    # retrieve model's responses\n",
    "    llama_ = pd.read_csv(os.path.join(OUTPUT_DIR, f\"{llama_model}_task_3_v{prompt_ver}.csv\"))\n",
    "    gemma_ = pd.read_csv(os.path.join(OUTPUT_DIR, f\"{gemma_model}_task_3_v{prompt_ver}.csv\"))\n",
    "    falcon_ = pd.read_csv(os.path.join(OUTPUT_DIR, f\"{falcon_model}_task_3_v{prompt_ver}.csv\"))\n",
    "\n",
    "    # ROUGE-L and ROUGE-1 scores\n",
    "    llama_rouge = scorer.compute(predictions=llama_['summary'].tolist(), references=df['summary'].tolist(), use_stemmer=True)\n",
    "    gemma_rouge = scorer.compute(predictions=gemma_['summary'].tolist(), references=df['summary'].tolist(), use_stemmer=True)\n",
    "    falcon_rouge = scorer.compute(predictions=falcon_['summary'].tolist(), references=df['summary'].tolist(), use_stemmer=True)\n",
    "\n",
    "    # print result\n",
    "    print(f'Prompt version {prompt_ver}:')\n",
    "    print(f\"{llama_model}: ROUGE-1: {llama_rouge['rouge1']:.4f}, ROUGE-L: {llama_rouge['rougeL']:.4f}\")\n",
    "    print(f\"{gemma_model}: ROUGE-1: {gemma_rouge['rouge1']:.4f}, ROUGE-L: {gemma_rouge['rougeL']:.4f}\")\n",
    "    print(f\"{falcon_model}: ROUGE-1: {falcon_rouge['rouge1']:.4f}, ROUGE-L: {falcon_rouge['rougeL']:.4f}\")\n",
    "    print()"
   ]
  },
  {
   "cell_type": "code",
   "execution_count": 34,
   "id": "36da4ca9",
   "metadata": {},
   "outputs": [
    {
     "name": "stdout",
     "output_type": "stream",
     "text": [
      "Prompt version 1:\n",
      "llama-3.2-3b-instruct: ROUGE-1: 0.4443, ROUGE-L: 0.3309\n",
      "gemma-3-4b-it: ROUGE-1: 0.4519, ROUGE-L: 0.3404\n",
      "falcon3-3b-instruct: ROUGE-1: 0.4136, ROUGE-L: 0.3172\n",
      "\n",
      "Prompt version 2:\n",
      "llama-3.2-3b-instruct: ROUGE-1: 0.3910, ROUGE-L: 0.2807\n",
      "gemma-3-4b-it: ROUGE-1: 0.4042, ROUGE-L: 0.2997\n",
      "falcon3-3b-instruct: ROUGE-1: 0.3852, ROUGE-L: 0.2877\n",
      "\n",
      "Prompt version 3:\n",
      "llama-3.2-3b-instruct: ROUGE-1: 0.4024, ROUGE-L: 0.2865\n",
      "gemma-3-4b-it: ROUGE-1: 0.3863, ROUGE-L: 0.2959\n",
      "falcon3-3b-instruct: ROUGE-1: 0.3625, ROUGE-L: 0.2781\n",
      "\n"
     ]
    }
   ],
   "source": [
    "for i in range(1, 4):\n",
    "    get_rouge_scores(i)"
   ]
  },
  {
   "cell_type": "markdown",
   "id": "f10fef6b",
   "metadata": {},
   "source": [
    "####  METEOR"
   ]
  },
  {
   "cell_type": "code",
   "execution_count": 35,
   "id": "10995392",
   "metadata": {},
   "outputs": [],
   "source": [
    "def get_meteor_scores(prompt_ver):\n",
    "    # retrieve model's responses\n",
    "    llama_ = pd.read_csv(os.path.join(OUTPUT_DIR, f\"{llama_model}_task_3_v{prompt_ver}.csv\"))\n",
    "    gemma_ = pd.read_csv(os.path.join(OUTPUT_DIR, f\"{gemma_model}_task_3_v{prompt_ver}.csv\"))\n",
    "    falcon_ = pd.read_csv(os.path.join(OUTPUT_DIR, f\"{falcon_model}_task_3_v{prompt_ver}.csv\"))\n",
    "\n",
    "    # calculate meteor score for each summary\n",
    "    llama_meteor = [meteor_score([word_tokenize(gold)], word_tokenize(llama_summary)) for gold, llama_summary in zip(df['summary'], llama_['summary'])]\n",
    "    gemma_meteor = [meteor_score([word_tokenize(gold)], word_tokenize(gemma_summary)) for gold, gemma_summary in zip(df['summary'], gemma_['summary'])]\n",
    "    falcon_meteor = [meteor_score([word_tokenize(gold)], word_tokenize(falcon_summary)) for gold, falcon_summary in zip(df['summary'], falcon_['summary'])]\n",
    "    # print result\n",
    "    print(f'Prompt version {prompt_ver}:')\n",
    "    print(f\"{llama_model}: {np.mean(llama_meteor):.4f}\")\n",
    "    print(f\"{gemma_model}: {np.mean(gemma_meteor):.4f}\")\n",
    "    print(f\"{falcon_model}: {np.mean(falcon_meteor):.4f}\")\n",
    "    print()"
   ]
  },
  {
   "cell_type": "code",
   "execution_count": 36,
   "id": "32281e83",
   "metadata": {},
   "outputs": [
    {
     "name": "stdout",
     "output_type": "stream",
     "text": [
      "Prompt version 1:\n",
      "llama-3.2-3b-instruct: 0.3562\n",
      "gemma-3-4b-it: 0.3727\n",
      "falcon3-3b-instruct: 0.3044\n",
      "\n",
      "Prompt version 2:\n",
      "llama-3.2-3b-instruct: 0.3213\n",
      "gemma-3-4b-it: 0.3076\n",
      "falcon3-3b-instruct: 0.2696\n",
      "\n",
      "Prompt version 3:\n",
      "llama-3.2-3b-instruct: 0.3581\n",
      "gemma-3-4b-it: 0.2778\n",
      "falcon3-3b-instruct: 0.2778\n",
      "\n"
     ]
    }
   ],
   "source": [
    "for i in range(1, 4):\n",
    "    get_meteor_scores(i)"
   ]
  },
  {
   "cell_type": "code",
   "execution_count": null,
   "id": "7bbf418a",
   "metadata": {},
   "outputs": [],
   "source": []
  }
 ],
 "metadata": {
  "kernelspec": {
   "display_name": ".venv",
   "language": "python",
   "name": "python3"
  },
  "language_info": {
   "codemirror_mode": {
    "name": "ipython",
    "version": 3
   },
   "file_extension": ".py",
   "mimetype": "text/x-python",
   "name": "python",
   "nbconvert_exporter": "python",
   "pygments_lexer": "ipython3",
   "version": "3.10.11"
  }
 },
 "nbformat": 4,
 "nbformat_minor": 5
}
